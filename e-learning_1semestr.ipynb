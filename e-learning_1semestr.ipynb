{
  "nbformat": 4,
  "nbformat_minor": 0,
  "metadata": {
    "colab": {
      "provenance": [],
      "authorship_tag": "ABX9TyPw0H7Rr6L8r0oebl7Wh9Sd",
      "include_colab_link": true
    },
    "kernelspec": {
      "name": "python3",
      "display_name": "Python 3"
    },
    "language_info": {
      "name": "python"
    }
  },
  "cells": [
    {
      "cell_type": "markdown",
      "metadata": {
        "id": "view-in-github",
        "colab_type": "text"
      },
      "source": [
        "<a href=\"https://colab.research.google.com/github/Rafal-Leszczynski/Study/blob/main/e-learning_1semestr.ipynb\" target=\"_parent\"><img src=\"https://colab.research.google.com/assets/colab-badge.svg\" alt=\"Open In Colab\"/></a>"
      ]
    },
    {
      "cell_type": "markdown",
      "source": [
        "Zadania na e-learning"
      ],
      "metadata": {
        "id": "O0DUBvsX9S28"
      }
    },
    {
      "cell_type": "markdown",
      "source": [
        "Lista 1, Lista 2, Lista 3\n"
      ],
      "metadata": {
        "id": "0iRWrIOW9ACF"
      }
    },
    {
      "cell_type": "markdown",
      "source": [
        "1. Przypisz do zmiennej dowolną liczbę całkowitą i wypisz ją na ekran."
      ],
      "metadata": {
        "id": "ye2di05w9Ch5"
      }
    },
    {
      "cell_type": "code",
      "source": [
        "# Przypisz do zmiennej dowolną liczbę całkowitą i wypisz ją na ekran.\n",
        "number = 42\n",
        "print(number)\n"
      ],
      "metadata": {
        "id": "wGLfltio_bxG"
      },
      "execution_count": null,
      "outputs": []
    },
    {
      "cell_type": "markdown",
      "source": [
        "2. Poproś użytkownika o podanie swojego imienia i wypisz je na ekranie. Przy pisaniu kodu źródłowego wykorzystaj komentarze."
      ],
      "metadata": {
        "id": "ip38CbLn9EPq"
      }
    },
    {
      "cell_type": "code",
      "source": [
        "name = input(\"Podaj swoje imię: \")\n",
        "print(f\"Twoje imię to: {name}\")\n"
      ],
      "metadata": {
        "id": "ACvYJVNr_g2P"
      },
      "execution_count": null,
      "outputs": []
    },
    {
      "cell_type": "markdown",
      "source": [
        "3. Napisz program, który sprawdzi czy podany wiek kwalifikuje osobę do emerytury (czyli czy ma więcej niż 60 lat dla kobiet i więcej niż 65 lat dla mężczyzn)."
      ],
      "metadata": {
        "id": "RkP6kD3x9F_c"
      }
    },
    {
      "cell_type": "code",
      "source": [
        "# Sprawdzenie wieku dla kwalifikacji do emerytury\n",
        "wiek = int(input(\"Podaj swój wiek: \"))\n",
        "plec = input(\"Podaj swoją płeć (M/K): \").upper()\n",
        "\n",
        "if (plec == 'K' and wiek > 60) or (plec == 'M' and wiek > 65):\n",
        "    print(\"Kwalifikujesz się do emerytury.\")\n",
        "else:\n",
        "    print(\"Nie kwalifikujesz się do emerytury.\")\n"
      ],
      "metadata": {
        "id": "sLCr2rT1_zmM"
      },
      "execution_count": null,
      "outputs": []
    },
    {
      "cell_type": "markdown",
      "source": [
        "4. Napisz program, który sprawdzi czy podane trzy liczby mogą być bokami trójkąta."
      ],
      "metadata": {
        "id": "Tvolh9GW9Hx-"
      }
    },
    {
      "cell_type": "code",
      "source": [
        "# Sprawdzenie czy trzy liczby mogą być bokami trójkąta\n",
        "a = float(input(\"Podaj długość pierwszego boku: \"))\n",
        "b = float(input(\"Podaj długość drugiego boku: \"))\n",
        "c = float(input(\"Podaj długość trzeciego boku: \"))\n",
        "\n",
        "if a + b > c and a + c > b and b + c > a:\n",
        "    print(\"Podane liczby mogą być bokami trójkąta.\")\n",
        "else:\n",
        "    print(\"Podane liczby nie mogą być bokami trójkąta.\")\n"
      ],
      "metadata": {
        "id": "SsvNz2Xj_0xv"
      },
      "execution_count": null,
      "outputs": []
    },
    {
      "cell_type": "markdown",
      "source": [
        "Ćw. 4, Ćw. 5"
      ],
      "metadata": {
        "id": "QRp94GNu9Jng"
      }
    },
    {
      "cell_type": "markdown",
      "source": [
        "1. Stwórz słownik zawierający informacje o kilku studentach (imię, nazwisko, wiek). Następnie wyświetl dane jednego z studentów."
      ],
      "metadata": {
        "id": "dOPercT39MDZ"
      }
    },
    {
      "cell_type": "code",
      "source": [],
      "metadata": {
        "id": "X34uqidw_2-J"
      },
      "execution_count": null,
      "outputs": []
    },
    {
      "cell_type": "markdown",
      "source": [
        "2. Stwórz krotkę zawierającą imiona \"Anna\", \"Jan\" i \"Maria\".  Czy jest możliwe dodanie nowego imiona do nowo utworzonej krotki?"
      ],
      "metadata": {
        "id": "n8bUe5Gg9mpL"
      }
    },
    {
      "cell_type": "code",
      "source": [],
      "metadata": {
        "id": "jQ3rKJNI_5Q-"
      },
      "execution_count": null,
      "outputs": []
    },
    {
      "cell_type": "markdown",
      "source": [
        "3. Posortuj listę liczb [5, 2, 8, 1, 3] rosnąco. Usuń drugi element z listy. Wypisz nowo utworzoną posortowaną listę."
      ],
      "metadata": {
        "id": "z0lvMjK79pO0"
      }
    },
    {
      "cell_type": "code",
      "source": [],
      "metadata": {
        "id": "WLAI2DE-__4T"
      },
      "execution_count": null,
      "outputs": []
    },
    {
      "cell_type": "markdown",
      "source": [
        "4. Stwórz zagnieżdżoną listę zawierającą informacje o pracownikach firmy (imię, nazwisko, stanowisko, pensja). Napisz program, który wyświetli wszystkich pracowników z pensją powyżej 5000 zł."
      ],
      "metadata": {
        "id": "nx9xmCJN9rBP"
      }
    },
    {
      "cell_type": "code",
      "source": [],
      "metadata": {
        "id": "AGLumJ_1AAgf"
      },
      "execution_count": null,
      "outputs": []
    },
    {
      "cell_type": "markdown",
      "source": [
        "5. Stwórz zagnieżdżony słownik zawierający informacje o dwóch osobach. Każda osoba powinna mieć przypisane imię, nazwisko i wiek. Następnie wyświetl imię pierwszej osoby.\n"
      ],
      "metadata": {
        "id": "7P3Cov_z9uFV"
      }
    },
    {
      "cell_type": "code",
      "source": [],
      "metadata": {
        "id": "HhRBycIFABhL"
      },
      "execution_count": null,
      "outputs": []
    },
    {
      "cell_type": "markdown",
      "source": [
        "6. Stwórz zagnieżdżoną krotkę zawierającą dwie krotki: (1, 2, 3) oraz (4, 5, 6). Następnie wyświetl trzeci element pierwszej krotki."
      ],
      "metadata": {
        "id": "RMOqYs5t9w4f"
      }
    },
    {
      "cell_type": "code",
      "source": [],
      "metadata": {
        "id": "6R2a-Z4_AB_c"
      },
      "execution_count": null,
      "outputs": []
    },
    {
      "cell_type": "markdown",
      "source": [
        "Cw. 6"
      ],
      "metadata": {
        "id": "igQHr2CU95bw"
      }
    },
    {
      "cell_type": "markdown",
      "source": [
        "1.Napisz program, która przyjmuje listę imion i listę nazwisk oraz zwraca listę zawierającą pełne imiona i nazwiska. Wykorzystaj funkcję zip().\n",
        "Przykładowe dane wejściowe:\n",
        "imiona = ['Anna', 'Jan', 'Maria']\n",
        "nazwiska = ['Kowalska', 'Nowak', 'Wiśniewska']\n",
        "Oczekiwany wynik:\n",
        "['Anna Kowalska', 'Jan Nowak', 'Maria Wiśniewska']\n"
      ],
      "metadata": {
        "id": "bCh40HZj97e0"
      }
    },
    {
      "cell_type": "code",
      "source": [
        "# Tworzenie listy pełnych imion i nazwisk\n",
        "imiona = ['Anna', 'Jan', 'Maria']\n",
        "nazwiska = ['Kowalska', 'Nowak', 'Wiśniewska']\n",
        "\n",
        "pelne_imiona = [f\"{imie} {nazwisko}\" for imie, nazwisko in zip(imiona, nazwiska)]\n",
        "print(pelne_imiona)\n"
      ],
      "metadata": {
        "id": "Yb4Ql2HoAT1Q"
      },
      "execution_count": null,
      "outputs": []
    },
    {
      "cell_type": "markdown",
      "source": [
        "2. Utwórz listę zawierającą oceny z egzaminów studentów. Następnie użyj funkcji enumerate() do wyświetlenia indeksów oraz odpowiadających im ocen na ekranie."
      ],
      "metadata": {
        "id": "HTHkhE13-AQK"
      }
    },
    {
      "cell_type": "code",
      "source": [],
      "metadata": {
        "id": "LzdbJh-wACq7"
      },
      "execution_count": null,
      "outputs": []
    },
    {
      "cell_type": "markdown",
      "source": [
        "3. Stwórz program, który przy użyciu funkcji len() sprawdzi długość słownika zawierającego nazwy przedmiotów i wyświetli tę długość na ekranie."
      ],
      "metadata": {
        "id": "dCYLvzlQ-CIC"
      }
    },
    {
      "cell_type": "code",
      "source": [],
      "metadata": {
        "id": "U717muN0ADOQ"
      },
      "execution_count": null,
      "outputs": []
    },
    {
      "cell_type": "markdown",
      "source": [
        "4. Napisz program w Pythonie, który będzie symulował działanie kolejki za pomocą wbudowanej struktury danych `deque` z modułu `collections`. Program powinien umożliwiać dodawanie elementów do kolejki, usuwanie elementów z kolejki oraz wyświetlanie zawartości kolejki."
      ],
      "metadata": {
        "id": "sVqGhVwW-ENK"
      }
    },
    {
      "cell_type": "code",
      "source": [],
      "metadata": {
        "id": "Ua-KUGfvAD5P"
      },
      "execution_count": null,
      "outputs": []
    },
    {
      "cell_type": "markdown",
      "source": [
        "Ćw. 7"
      ],
      "metadata": {
        "id": "sQ2wrexW-F7V"
      }
    },
    {
      "cell_type": "markdown",
      "source": [
        "1. Napisz program w Pythonie, która przyjmuje dwa napisy jako argumenty i zwraca informację czy są one anagramami (czy składają się z tych samych liter)."
      ],
      "metadata": {
        "id": "zdLYJBKQ-HlF"
      }
    },
    {
      "cell_type": "code",
      "source": [],
      "metadata": {
        "id": "dQ8ZASs3AEgd"
      },
      "execution_count": null,
      "outputs": []
    },
    {
      "cell_type": "markdown",
      "source": [
        "2. Napisz program, który obliczy pole powierzchni koła o zadanym promieniu, korzystając z modułu math."
      ],
      "metadata": {
        "id": "zI3rdfc5-Jus"
      }
    },
    {
      "cell_type": "code",
      "source": [],
      "metadata": {
        "id": "l6ciADq_AFFb"
      },
      "execution_count": null,
      "outputs": []
    },
    {
      "cell_type": "markdown",
      "source": [
        "3. Napisz program, który będzie generować losową liczbę z przedziału od 1 do 100 i sprawdzi, czy jest ona liczbą pierwszą."
      ],
      "metadata": {
        "id": "-K0sr8Yq-Ldw"
      }
    },
    {
      "cell_type": "code",
      "source": [],
      "metadata": {
        "id": "b7mRpD6QAFla"
      },
      "execution_count": null,
      "outputs": []
    },
    {
      "cell_type": "markdown",
      "source": [
        "Ćw. 8"
      ],
      "metadata": {
        "id": "AEAgub9v-Ngi"
      }
    },
    {
      "cell_type": "markdown",
      "source": [
        "1. Napisz funkcję w Python, która przyjmuje jako argument listę napisów i zwraca listę zawierającą tylko te napisy, które zawierają literę 'a'."
      ],
      "metadata": {
        "id": "1uZtcxcO-Pgy"
      }
    },
    {
      "cell_type": "code",
      "source": [],
      "metadata": {
        "id": "6xJnZmgOAGK9"
      },
      "execution_count": null,
      "outputs": []
    },
    {
      "cell_type": "markdown",
      "source": [
        "2. Napisz funkcję w Python, która przyjmuje jako argument listę liczb całkowitych i zwraca listę zawierającą tylko te liczby, które są kwadratami innych liczb z listy."
      ],
      "metadata": {
        "id": "UFCv8ZeN-ROu"
      }
    },
    {
      "cell_type": "code",
      "source": [],
      "metadata": {
        "id": "E0upFyHFAGrj"
      },
      "execution_count": null,
      "outputs": []
    },
    {
      "cell_type": "markdown",
      "source": [
        "3. Stwórz funkcję, która przyjmuje słownik zawierający nazwy produktów i ich ceny, a następnie zwraca nazwę produktu o najwyższej cenie."
      ],
      "metadata": {
        "id": "KyE1CXe3-Tl3"
      }
    },
    {
      "cell_type": "code",
      "source": [],
      "metadata": {
        "id": "rU_EzqPcAHM2"
      },
      "execution_count": null,
      "outputs": []
    },
    {
      "cell_type": "markdown",
      "source": [
        "Ćw. 9"
      ],
      "metadata": {
        "id": "qbjOR7L1-VSc"
      }
    },
    {
      "cell_type": "markdown",
      "source": [
        "1. Stwórz klasę \"Książka\" z atrybutami: tytuł, autor, rok_wydania. Napisz metodę, która wyświetli informacje o książce oraz metodę, która sprawdzi czy książka została wydana przed 2000 rokiem."
      ],
      "metadata": {
        "id": "dXmT4kgU-XLs"
      }
    },
    {
      "cell_type": "code",
      "source": [
        "# Klasa \"Książka\"\n",
        "class Ksiazka:\n",
        "    def __init__(self, tytul, autor, rok_wydania):\n",
        "        self.tytul = tytul\n",
        "        self.autor = autor\n",
        "        self.rok_wydania = rok_wydania\n",
        "\n",
        "    def wyswietl_informacje(self):\n",
        "        print(f\"Tytuł: {self.tytul}, Autor: {self.autor}, Rok wydania: {self.rok_wydania}\")\n",
        "\n",
        "    def czy_wydano_przed_2000(self):\n",
        "        return self.rok_wydania < 2000\n",
        "\n",
        "# Przykład użycia\n",
        "ksiazka = Ksiazka(\"Pan Tadeusz\", \"Adam Mickiewicz\", 1834)\n",
        "ksiazka.wyswietl_informacje()\n",
        "print(\"Wydano przed 2000 rokiem:\", ksiazka.czy_wydano_przed_2000())\n"
      ],
      "metadata": {
        "id": "cn9zMtWKAH1L"
      },
      "execution_count": null,
      "outputs": []
    },
    {
      "cell_type": "markdown",
      "source": [
        "2. Stwórz klasę \"Produkt\" z atrybutami: nazwa, cena, ilość. Napisz metody, które umożliwią dodanie produktu do koszyka, zmniejszenie ilości produktu w koszyku oraz obliczenie całkowitej wartości koszyka."
      ],
      "metadata": {
        "id": "38CR9zml-ZEJ"
      }
    },
    {
      "cell_type": "code",
      "source": [],
      "metadata": {
        "id": "V2sZH4NgAIIk"
      },
      "execution_count": null,
      "outputs": []
    },
    {
      "cell_type": "markdown",
      "source": [
        "3. Stwórz klasę \"Trójkąt\" dziedziczącą po klasie \"FiguraGeometryczna\", która będzie miała dodatkowy atrybut długości boków oraz metodę obliczającą pole i obwód trójkąta."
      ],
      "metadata": {
        "id": "gSAKETLH-a1E"
      }
    },
    {
      "cell_type": "code",
      "source": [],
      "metadata": {
        "id": "yYfjP0DlAI0D"
      },
      "execution_count": null,
      "outputs": []
    },
    {
      "cell_type": "markdown",
      "source": [
        "4. Stwórz klasę \"Pojazd\" z atrybutami marka, model i rok_produkcji. Następnie stwórz klasy \"Samochod\" i \"Motocykl\", które dziedziczą po klasie \"Pojazd\" i dodają atrybuty specyficzne dla danego typu pojazdu."
      ],
      "metadata": {
        "id": "mptu3UIK-eAQ"
      }
    },
    {
      "cell_type": "code",
      "source": [],
      "metadata": {
        "id": "5LVflpkkAJLX"
      },
      "execution_count": null,
      "outputs": []
    },
    {
      "cell_type": "markdown",
      "source": [
        "Ćw. 10"
      ],
      "metadata": {
        "id": "y55vNA3Y-epO"
      }
    },
    {
      "cell_type": "markdown",
      "source": [
        "1. Polimorfizm:\n",
        "Stwórz dwie klasy: Kwadrat i Kolo. Obie klasy powinny mieć metodę obliczająca pole powierzchni (np. oblicz_pole()). Następnie stwórz listę obiektów tych klas i wywołaj dla każdego z nich metodę oblicz_pole().\n"
      ],
      "metadata": {
        "id": "rfAETGSx-g0x"
      }
    },
    {
      "cell_type": "code",
      "source": [],
      "metadata": {
        "id": "Rqt669PpAJxX"
      },
      "execution_count": null,
      "outputs": []
    },
    {
      "cell_type": "markdown",
      "source": [
        "2. Hermetyzacja:\n",
        "Stwórz klasę Osoba z atrybutami imie, nazwisko i wiek. Zabezpiecz atrybuty imie i nazwisko przed bezpośrednim dostępem z zewnątrz klasy.\n"
      ],
      "metadata": {
        "id": "WLMuziIZ-iui"
      }
    },
    {
      "cell_type": "code",
      "source": [],
      "metadata": {
        "id": "8k6SPOB-AKTn"
      },
      "execution_count": null,
      "outputs": []
    },
    {
      "cell_type": "markdown",
      "source": [
        "3. Abstrakcja:\n",
        "Stwórz klasę Zwierze z metodą abstrakcyjną daj_glos(). Następnie stwórz dwie klasy dziedziczące po klasie Zwierze: Pies i Kot. Każda z tych klas powinna zaimplementować metodę daj_glos() w sposób odpowiedni dla danego zwierzęcia.\n"
      ],
      "metadata": {
        "id": "K8D8c5zU-kjd"
      }
    },
    {
      "cell_type": "code",
      "source": [],
      "metadata": {
        "id": "I9X3kl6DAKsx"
      },
      "execution_count": null,
      "outputs": []
    },
    {
      "cell_type": "markdown",
      "source": [
        "4.\n",
        "Napisz dekorator, który będzie mnożył wynik funkcji przez 2.\n"
      ],
      "metadata": {
        "id": "ygMZp3yO-mpl"
      }
    },
    {
      "cell_type": "code",
      "source": [],
      "metadata": {
        "id": "ifEHMYOvALMe"
      },
      "execution_count": null,
      "outputs": []
    },
    {
      "cell_type": "markdown",
      "source": [],
      "metadata": {
        "id": "m8SHcIJ_-pI1"
      }
    }
  ]
}